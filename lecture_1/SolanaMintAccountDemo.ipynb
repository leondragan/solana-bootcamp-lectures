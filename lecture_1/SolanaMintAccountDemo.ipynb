{
 "cells": [
  {
   "cell_type": "code",
   "execution_count": 1,
   "id": "d0844afa",
   "metadata": {},
   "outputs": [],
   "source": [
    "import struct\n",
    "from pprint import pprint as p\n",
    "from solana.rpc.api import Client\n",
    "from solana.publickey import PublicKey \n",
    "from solana.transaction import Transaction, AccountMeta\n",
    "from base58 import b58encode, b58decode as b58d\n",
    "from base64 import b64decode as b64d\n",
    "b58e = lambda x: b58encode(x).decode('ascii')"
   ]
  },
  {
   "cell_type": "code",
   "execution_count": 2,
   "id": "0775621b",
   "metadata": {},
   "outputs": [],
   "source": [
    "uri = \"http://api.mainnet-beta.solana.com\""
   ]
  },
  {
   "cell_type": "code",
   "execution_count": 3,
   "id": "ed810a2e",
   "metadata": {},
   "outputs": [],
   "source": [
    "client = Client(uri)"
   ]
  },
  {
   "cell_type": "code",
   "execution_count": 4,
   "id": "813ab0fc",
   "metadata": {},
   "outputs": [],
   "source": [
    "usdc = \"EPjFWdd5AufqSSqeM2qN1xzybapC8G4wEGGkZwyTDt1v\"\n",
    "ai = client.get_account_info(usdc)"
   ]
  },
  {
   "cell_type": "code",
   "execution_count": 5,
   "id": "a18299b0",
   "metadata": {},
   "outputs": [
    {
     "name": "stdout",
     "output_type": "stream",
     "text": [
      "{'id': 1,\n",
      " 'jsonrpc': '2.0',\n",
      " 'result': {'context': {'slot': 115650416},\n",
      "            'value': {'data': ['AQAAABzjWe1aAS4E+hQrnHUaHF6Hz9CgFhuchf/TG3jN/Nj2du5fou7/EAAGAQEAAAAqnl7btTwEZ5CY/3sSZRcUQ0/AjFYqmjuGEQXmctQicw==',\n",
      "                               'base64'],\n",
      "                      'executable': False,\n",
      "                      'lamports': 117955218526,\n",
      "                      'owner': 'TokenkegQfeZyiNwAJbNbGKPFXCWuBvf9Ss623VQ5DA',\n",
      "                      'rentEpoch': 267}}}\n"
     ]
    }
   ],
   "source": [
    "p(ai)"
   ]
  },
  {
   "cell_type": "code",
   "execution_count": 6,
   "id": "29c11cd7",
   "metadata": {},
   "outputs": [],
   "source": [
    "account_data = ai['result']['value']['data'][0]"
   ]
  },
  {
   "cell_type": "code",
   "execution_count": 7,
   "id": "21942152",
   "metadata": {},
   "outputs": [
    {
     "data": {
      "text/plain": [
       "'AQAAABzjWe1aAS4E+hQrnHUaHF6Hz9CgFhuchf/TG3jN/Nj2du5fou7/EAAGAQEAAAAqnl7btTwEZ5CY/3sSZRcUQ0/AjFYqmjuGEQXmctQicw=='"
      ]
     },
     "execution_count": 7,
     "metadata": {},
     "output_type": "execute_result"
    }
   ],
   "source": [
    "account_data"
   ]
  },
  {
   "cell_type": "code",
   "execution_count": 8,
   "id": "0ba5cd48",
   "metadata": {},
   "outputs": [],
   "source": [
    "data = b64d(account_data)"
   ]
  },
  {
   "cell_type": "code",
   "execution_count": 9,
   "id": "c1a46b98",
   "metadata": {},
   "outputs": [],
   "source": [
    "from spl.token._layouts import MINT_LAYOUT"
   ]
  },
  {
   "cell_type": "code",
   "execution_count": 10,
   "id": "6e42a5a1",
   "metadata": {},
   "outputs": [
    {
     "data": {
      "text/plain": [
       "b'\\x01\\x00\\x00\\x00\\x1c\\xe3Y\\xedZ\\x01.\\x04\\xfa\\x14+\\x9cu\\x1a\\x1c^\\x87\\xcf\\xd0\\xa0\\x16\\x1b\\x9c\\x85\\xff\\xd3\\x1bx\\xcd\\xfc\\xd8\\xf6v\\xee_\\xa2\\xee\\xff\\x10\\x00\\x06\\x01\\x01\\x00\\x00\\x00*\\x9e^\\xdb\\xb5<\\x04g\\x90\\x98\\xff{\\x12e\\x17\\x14CO\\xc0\\x8cV*\\x9a;\\x86\\x11\\x05\\xe6r\\xd4\"s'"
      ]
     },
     "execution_count": 10,
     "metadata": {},
     "output_type": "execute_result"
    }
   ],
   "source": [
    "data"
   ]
  },
  {
   "cell_type": "code",
   "execution_count": 13,
   "id": "c83c651c",
   "metadata": {},
   "outputs": [
    {
     "data": {
      "text/plain": [
       "1"
      ]
     },
     "execution_count": 13,
     "metadata": {},
     "output_type": "execute_result"
    }
   ],
   "source": [
    "mint_authority_option = struct.unpack(\"<I\", data[0: 4])[0]\n",
    "mint_authority_option"
   ]
  },
  {
   "cell_type": "code",
   "execution_count": 17,
   "id": "3ea6adfe",
   "metadata": {},
   "outputs": [
    {
     "data": {
      "text/plain": [
       "'2wmVCSfPxGPjrnMMn7rchp4uaeoTqN39mXFC2zhPdri9'"
      ]
     },
     "execution_count": 17,
     "metadata": {},
     "output_type": "execute_result"
    }
   ],
   "source": [
    "mint_authority = struct.unpack(\"<32s\", data[4: 36])[0]\n",
    "b58e(mint_authority)"
   ]
  },
  {
   "cell_type": "code",
   "execution_count": 18,
   "id": "4aaad1ff",
   "metadata": {},
   "outputs": [
    {
     "data": {
      "text/plain": [
       "4785000018865782"
      ]
     },
     "execution_count": 18,
     "metadata": {},
     "output_type": "execute_result"
    }
   ],
   "source": [
    "supply = struct.unpack(\"<Q\", data[36: 44])[0]\n",
    "supply"
   ]
  },
  {
   "cell_type": "code",
   "execution_count": 20,
   "id": "f7cc0003",
   "metadata": {},
   "outputs": [
    {
     "data": {
      "text/plain": [
       "6"
      ]
     },
     "execution_count": 20,
     "metadata": {},
     "output_type": "execute_result"
    }
   ],
   "source": [
    "decimal = struct.unpack(\"<B\", data[44: 45])[0]\n",
    "decimal"
   ]
  },
  {
   "cell_type": "code",
   "execution_count": 21,
   "id": "afb07668",
   "metadata": {},
   "outputs": [
    {
     "data": {
      "text/plain": [
       "4785000018.865782"
      ]
     },
     "execution_count": 21,
     "metadata": {},
     "output_type": "execute_result"
    }
   ],
   "source": [
    "supply * 10**(-decimal)"
   ]
  },
  {
   "cell_type": "code",
   "execution_count": null,
   "id": "a4831447",
   "metadata": {},
   "outputs": [],
   "source": []
  }
 ],
 "metadata": {
  "kernelspec": {
   "display_name": "Python 3 (ipykernel)",
   "language": "python",
   "name": "python3"
  },
  "language_info": {
   "codemirror_mode": {
    "name": "ipython",
    "version": 3
   },
   "file_extension": ".py",
   "mimetype": "text/x-python",
   "name": "python",
   "nbconvert_exporter": "python",
   "pygments_lexer": "ipython3",
   "version": "3.9.5"
  }
 },
 "nbformat": 4,
 "nbformat_minor": 5
}
